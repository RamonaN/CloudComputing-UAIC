{
 "cells": [
  {
   "cell_type": "code",
   "execution_count": 23,
   "metadata": {},
   "outputs": [
    {
     "data": {
      "application/vnd.jupyter.widget-view+json": {
       "model_id": "46b75d65aa114fce85dd91c7aac58b68",
       "version_major": 2,
       "version_minor": 0
      },
      "text/plain": [
       "Dropdown(description='Select approach', options=('Item-based (correlation)', 'Item-based (cosine)', 'User-base…"
      ]
     },
     "metadata": {},
     "output_type": "display_data"
    }
   ],
   "source": [
    "!pip3 install --upgrade google-cloud-firestore > /dev/null 2>/dev/null\n",
    "!pip3 install firebase-admin google-cloud-firestore"
   ]
  },
  {
   "cell_type": "code",
   "execution_count": 1,
   "metadata": {},
   "outputs": [
    {
     "name": "stderr",
     "output_type": "stream",
     "text": [
      "/opt/conda/lib/python3.7/site-packages/sklearn/externals/joblib/__init__.py:15: FutureWarning: sklearn.externals.joblib is deprecated in 0.21 and will be removed in 0.23. Please import this functionality directly from joblib, which can be installed with: pip install joblib. If this warning is raised when loading pickled models, you may need to re-serialize those models with scikit-learn 0.21+.\n",
      "  warnings.warn(msg, category=FutureWarning)\n"
     ]
    }
   ],
   "source": [
    "import datetime\n",
    "\n",
    "from google.cloud import storage\n",
    "from google.cloud import firestore\n",
    "\n",
    "from firebase_admin import credentials, firestore\n",
    "from firebase_admin import db\n",
    "import firebase_admin\n",
    "\n",
    "import pandas as pd\n",
    "import numpy as np\n",
    "from sklearn.externals import joblib\n",
    "from sklearn.neighbors import NearestNeighbors\n",
    "\n",
    "import warnings\n",
    "warnings.filterwarnings('ignore')\n",
    "\n",
    "\n",
    "cred = credentials.ApplicationDefault()\n",
    "app = firebase_admin.initialize_app(cred)\n",
    "store = firestore.client()\n",
    "\n",
    "def get_collection_asDF(colection_name):\n",
    "    doc_ref = store.collection(colection_name)\n",
    "    try:\n",
    "        docs = doc_ref.get()\n",
    "        data = [doc.to_dict() for doc in docs]        \n",
    "        df = pd.DataFrame(data)\n",
    "        return df\n",
    "    except google.cloud.exceptions.NotFound:\n",
    "        print(u'Missing data')\n",
    "        \n",
    "books = get_collection_asDF('books')\n",
    "ratings = get_collection_asDF('ratings')\n",
    "users = get_collection_asDF('users')        \n",
    "        \n",
    "books.drop(['imagine'],axis=1,inplace=True)\n",
    "books['an'] = books['an'].replace(0,np.nan)\n",
    "books['an'].fillna(books['an'].mean(), inplace=True)\n",
    "books['an'] = books['an'].astype(np.int32)    \n",
    "\n",
    "users.drop(['nume','parola','isAdmin'],axis=1,inplace=True)\n",
    "users.varsta.loc[(users.varsta >90) | (users.varsta<5)] = np.nan\n",
    "users.varsta = users.varsta.fillna(users.varsta.mean())\n",
    "users.varsta = users.varsta.astype(np.int32)\n",
    "users.id = users.id.astype(np.int32)\n",
    "\n",
    "ratings_new = ratings[ratings.isbn.isin(books.isbn)]\n",
    "ratings = ratings[ratings.utilizator.isin(users.id)]\n",
    "ratings_explicit = ratings_new[ratings_new.scor != 0]\n",
    "ratings_implicit = ratings_new[ratings_new.scor == 0]\n",
    "users_exp_ratings = users[users.id.isin(ratings_explicit.utilizator)]\n",
    "users_imp_ratings = users[users.id.isin(ratings_implicit.utilizator)]\n",
    "\n",
    "counts1 = ratings_explicit['utilizator'].value_counts()\n",
    "ratings_explicit = ratings_explicit[ratings_explicit['utilizator'].isin(counts1[counts1 >= 1].index)]\n",
    "counts = ratings_explicit['scor'].value_counts()\n",
    "ratings_explicit = ratings_explicit[ratings_explicit['scor'].isin(counts[counts >= 1].index)]\n",
    "\n",
    "ratings_matrix = ratings_explicit.pivot(index='utilizator', columns='isbn', values='scor')\n",
    "ratings_matrix.fillna(0, inplace = True)\n",
    "ratings_matrix = ratings_matrix.astype(np.int32)\n",
    "\n",
    "model_knn_users = NearestNeighbors(metric = 'cosine', algorithm = 'brute') \n",
    "model_knn_users.fit(ratings_matrix)\n",
    "\n",
    "model_knn_items = NearestNeighbors(metric = 'cosine', algorithm = 'brute') \n",
    "model_knn_items.fit(ratings_matrix.T)\n",
    "\n",
    "\n",
    "def save(pipeline,model,BUCKET_NAME):\n",
    "    \n",
    "    joblib.dump(pipeline, model)\n",
    "\n",
    "    # Upload the model to GCS\n",
    "    bucket = storage.Client().bucket(BUCKET_NAME)\n",
    "    blob = bucket.blob('{}/{}'.format(\n",
    "        datetime.datetime.now().strftime('book_%Y%m%d_%H%M'),\n",
    "        model))\n",
    "    blob.upload_from_filename(model)\n",
    "    \n",
    "BUCKET_NAME =  \"cc-homework-3-272910-aiplatform\"\n",
    "save(model_knn_users,'model_users.joblib',BUCKET_NAME)\n",
    "save(model_knn_items,'model_items.joblib',BUCKET_NAME)\n",
    "save(ratings_matrix,'ratings_matrix.joblib',BUCKET_NAME)\n",
    "save(books,'books.joblib',BUCKET_NAME)"
   ]
  },
  {
   "cell_type": "code",
   "execution_count": 16,
   "metadata": {},
   "outputs": [],
   "source": [
    "import os\n",
    "\n",
    "import re\n",
    "import numpy as np\n",
    "import pandas as pd\n",
    "import joblib\n",
    "\n",
    "\n",
    "class MyPredictor(object):\n",
    "\n",
    "    def __init__(self, model_users, model_items, ratings_matrix, books):\n",
    "\n",
    "        self._model_users = model_users\n",
    "        self._model_items = model_items\n",
    "        self._ratings_matrix = ratings_matrix\n",
    "        self._books = books\n",
    "\n",
    "    def find_k_similar_users(self, user_id, k=10):\n",
    "        loc = self._ratings_matrix.index.get_loc(user_id)\n",
    "        distances, indices = self._model_users.kneighbors(self._ratings_matrix.iloc[loc, :].values.reshape(1, -1),\n",
    "                                                          n_neighbors=k + 1)\n",
    "        similarities = 1 - distances.flatten()\n",
    "\n",
    "        return similarities, indices\n",
    "\n",
    "    def predict_user_based(self, user_id, item_id, _ratings_matrix, k=10):\n",
    "        prediction = 0\n",
    "        user_loc = _ratings_matrix.index.get_loc(user_id)\n",
    "        item_loc = _ratings_matrix.columns.get_loc(item_id)\n",
    "        similarities, indices = self.find_k_similar_users(user_id, k)\n",
    "        mean_rating = _ratings_matrix.iloc[user_loc, :].mean()\n",
    "        sum_wt = np.sum(similarities) - 1\n",
    "        product = 1\n",
    "        wtd_sum = 0\n",
    "\n",
    "        for i in range(0, len(indices.flatten())):\n",
    "            if indices.flatten()[i] == user_loc:\n",
    "                continue\n",
    "            else:\n",
    "                ratings_diff = _ratings_matrix.iloc[indices.flatten()[i], item_loc] - np.mean(\n",
    "                    _ratings_matrix.iloc[indices.flatten()[i], :])\n",
    "                product = ratings_diff * (similarities[i])\n",
    "                wtd_sum = wtd_sum + product\n",
    "\n",
    "        prediction = int(np.nan_to_num(round(mean_rating + (wtd_sum / sum_wt))))\n",
    "#         print('\\nPredicted rating for user {0} -> item {1}: {2}'.format(user_id, item_id, prediction))\n",
    "\n",
    "        return prediction\n",
    "\n",
    "    def find_k_similar_items(self, item_id, k=10):\n",
    "        ratings = self._ratings_matrix.T\n",
    "        loc = ratings.index.get_loc(item_id)\n",
    "\n",
    "        distances, indices = self._model_items.kneighbors(ratings.iloc[loc, :].values.reshape(1, -1), n_neighbors=k + 1)\n",
    "        similarities = 1 - distances.flatten()\n",
    "\n",
    "        return similarities, indices\n",
    "\n",
    "    def predict_item_based(self, user_id, item_id, _ratings_matrix, k=10):\n",
    "        prediction = wtd_sum = 0\n",
    "        item_id = int(item_id)\n",
    "        user_loc = _ratings_matrix.index.get_loc(user_id)\n",
    "        item_loc = _ratings_matrix.columns.get_loc(item_id)\n",
    "        similarities, indices = self.find_k_similar_items(item_id, k)\n",
    "        sum_wt = np.sum(similarities) - 1\n",
    "        product = 1\n",
    "        for i in range(0, len(indices.flatten())):\n",
    "            if indices.flatten()[i] == item_loc:\n",
    "                continue\n",
    "            else:\n",
    "                product = _ratings_matrix.iloc[user_loc, indices.flatten()[i]] * (similarities[i])\n",
    "                wtd_sum = wtd_sum + product\n",
    "        prediction = int(np.nan_to_num(round(wtd_sum / sum_wt)))\n",
    "\n",
    "        if prediction <= 0:\n",
    "            prediction = 1\n",
    "        elif prediction > 10:\n",
    "            prediction = 10\n",
    "\n",
    "#         print('\\nPredicted rating for user {0} -> item {1}: {2}'.format(user_id, item_id, prediction))\n",
    "\n",
    "        return prediction\n",
    "\n",
    "    def recommend(self, user_id, k=10, item=True):\n",
    "        if (user_id not in self._ratings_matrix.index.values) or type(user_id) is not int:\n",
    "            print(\"User id should be a valid integer from this list :\\n\\n {} \".format(\n",
    "                re.sub('[\\[\\]]', '', np.array_str(self._ratings_matrix.index.values))))\n",
    "        else:\n",
    "\n",
    "            prediction = []\n",
    "\n",
    "            for i in range(self._ratings_matrix.shape[1]):\n",
    "                if self._ratings_matrix[self._ratings_matrix.columns[i]][user_id] != 0:  # not rated already\n",
    "                    if item:\n",
    "                        prediction.append(\n",
    "                            self.predict_item_based(user_id, self._ratings_matrix.columns[i], self._ratings_matrix))\n",
    "                    else:\n",
    "                        prediction.append(\n",
    "                            self.predict_user_based(user_id, self._ratings_matrix.columns[i], self._ratings_matrix))\n",
    "                else:\n",
    "                    prediction.append(-1)\n",
    "\n",
    "            prediction = pd.Series(prediction)\n",
    "            prediction = prediction.sort_values(ascending=False)\n",
    "            recommended = prediction[:k]\n",
    "            return [str(self._books.isbn[recommended.index[i]]) for i in range(len(recommended))]\n",
    "\n",
    "\n",
    "    def predict(self, instances, **kwargs):\n",
    "        \"\"\"Performs custom prediction.\n",
    "\n",
    "        Preprocesses inputs, then performs prediction using the trained\n",
    "        scikit-learn model.\n",
    "\n",
    "        Args:\n",
    "            instances: A list of prediction input instances.\n",
    "            **kwargs: A dictionary of keyword args provided as additional\n",
    "                fields on the predict request body.\n",
    "\n",
    "        Returns:\n",
    "            A list of outputs containing the prediction results.\n",
    "        \"\"\"\n",
    "        \n",
    "        if 'k' in kwargs.keys():\n",
    "            k =int(kwargs['k'])\n",
    "        else: \n",
    "            k= 10\n",
    "            \n",
    "        if 'item' in kwargs.keys():\n",
    "            item = bool(kwargs['item'])\n",
    "        else:\n",
    "            item = True\n",
    "                            \n",
    "        outputs = [self.recommend(i,k,item) for i in instances ] \n",
    "        return outputs\n",
    "\n",
    "    @classmethod\n",
    "    def from_path(cls, model_dir):\n",
    "\n",
    "        model_users_path = os.path.join(model_dir, 'model_users.joblib')\n",
    "        print(model_users_path)\n",
    "        model_users = joblib.load(model_users_path)\n",
    "        print('load users')\n",
    "        \n",
    "        \n",
    "        model_items_path = os.path.join(model_dir, 'model_items.joblib')\n",
    "        print(model_items_path)\n",
    "        model_items = joblib.load(model_items_path)\n",
    "        print('load items')\n",
    "        \n",
    "        ratings_matrix_path = os.path.join(model_dir, 'ratings_matrix.joblib')\n",
    "        print(ratings_matrix_path)\n",
    "        ratings_matrix = joblib.load(ratings_matrix_path)\n",
    "        print('load ratings')\n",
    "        \n",
    "        books_path = os.path.join(model_dir, 'books.joblib')\n",
    "        print(books_path)\n",
    "        books =  joblib.load(books_path)\n",
    "        print('load books')\n",
    "        \n",
    "        return cls(model_users, model_items, ratings_matrix, books)\n"
   ]
  },
  {
   "cell_type": "code",
   "execution_count": 17,
   "metadata": {},
   "outputs": [],
   "source": [
    "pred = MyPredictor(model_knn_users,model_knn_items,ratings_matrix,books)"
   ]
  },
  {
   "cell_type": "code",
   "execution_count": 13,
   "metadata": {},
   "outputs": [
    {
     "data": {
      "text/plain": [
       "(array([1., 0., 0., 0., 0., 0., 0., 0., 0., 0., 0.]),\n",
       " array([[ 0, 70, 72, 67, 68, 69, 65, 75, 74, 71, 73]]))"
      ]
     },
     "execution_count": 13,
     "metadata": {},
     "output_type": "execute_result"
    }
   ],
   "source": [
    "pred.find_k_similar_users(8)"
   ]
  },
  {
   "cell_type": "code",
   "execution_count": 18,
   "metadata": {},
   "outputs": [
    {
     "data": {
      "text/plain": [
       "['140003180', '380717018', '38076654', '1567184294']"
      ]
     },
     "execution_count": 18,
     "metadata": {},
     "output_type": "execute_result"
    }
   ],
   "source": [
    "pred.recommend(8,k=4,item=True)"
   ]
  },
  {
   "cell_type": "code",
   "execution_count": 59,
   "metadata": {},
   "outputs": [
    {
     "data": {
      "text/plain": [
       "[[140003180, 380717018, 38076654, 1567184294],\n",
       " [385418493, 440241413, 312970242, 316769487]]"
      ]
     },
     "execution_count": 59,
     "metadata": {},
     "output_type": "execute_result"
    }
   ],
   "source": [
    "pred.predict([8,12],k=4,item=False)"
   ]
  }
 ],
 "metadata": {
  "kernelspec": {
   "display_name": "Python 3",
   "language": "python",
   "name": "python3"
  },
  "language_info": {
   "codemirror_mode": {
    "name": "ipython",
    "version": 3
   },
   "file_extension": ".py",
   "mimetype": "text/x-python",
   "name": "python",
   "nbconvert_exporter": "python",
   "pygments_lexer": "ipython3",
   "version": "3.7.6"
  }
 },
 "nbformat": 4,
 "nbformat_minor": 4
}
